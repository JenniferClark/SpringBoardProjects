{
 "cells": [
  {
   "cell_type": "markdown",
   "metadata": {
    "colab_type": "text",
    "id": "Tia3MP1SJpgj"
   },
   "source": [
    "# Springboard Data Science Career Track Unit 4 Challenge - Tier 3 Complete\n",
    "\n",
    "## Objectives\n",
    "Hey! Great job getting through those challenging DataCamp courses. You're learning a lot in a short span of time. \n",
    "\n",
    "In this notebook, you're going to apply the skills you've been learning, bridging the gap between the controlled environment of DataCamp and the *slightly* messier work that data scientists do with actual datasets!\n",
    "\n",
    "Here’s the mystery we’re going to solve: ***which boroughs of London have seen the greatest increase in housing prices, on average, over the last two decades?***\n",
    "\n",
    "\n",
    "A borough is just a fancy word for district. You may be familiar with the five boroughs of New York… well, there are 32 boroughs within Greater London [(here's some info for the curious)](https://en.wikipedia.org/wiki/London_boroughs). Some of them are more desirable areas to live in, and the data will reflect that with a greater rise in housing prices.\n",
    "\n",
    "***This is the Tier 3 notebook, which means it's not filled in at all: we'll just give you the skeleton of a project, the brief and the data. It's up to you to play around with it and see what you can find out! Good luck! If you struggle, feel free to look at easier tiers for help; but try to dip in and out of them, as the more independent work you do, the better it is for your learning!***\n",
    "\n",
    "This challenge will make use of only what you learned in the following DataCamp courses: \n",
    "- Prework courses (Introduction to Python for Data Science, Intermediate Python for Data Science)\n",
    "- Data Types for Data Science\n",
    "- Python Data Science Toolbox (Part One) \n",
    "- pandas Foundations\n",
    "- Manipulating DataFrames with pandas\n",
    "- Merging DataFrames with pandas\n",
    "\n",
    "Of the tools, techniques and concepts in the above DataCamp courses, this challenge should require the application of the following: \n",
    "- **pandas**\n",
    "    - **data ingestion and inspection** (pandas Foundations, Module One) \n",
    "    - **exploratory data analysis** (pandas Foundations, Module Two)\n",
    "    - **tidying and cleaning** (Manipulating DataFrames with pandas, Module Three) \n",
    "    - **transforming DataFrames** (Manipulating DataFrames with pandas, Module One)\n",
    "    - **subsetting DataFrames with lists** (Manipulating DataFrames with pandas, Module One) \n",
    "    - **filtering DataFrames** (Manipulating DataFrames with pandas, Module One) \n",
    "    - **grouping data** (Manipulating DataFrames with pandas, Module Four) \n",
    "    - **melting data** (Manipulating DataFrames with pandas, Module Three) \n",
    "    - **advanced indexing** (Manipulating DataFrames with pandas, Module Four) \n",
    "- **matplotlib** (Intermediate Python for Data Science, Module One)\n",
    "- **fundamental data types** (Data Types for Data Science, Module One) \n",
    "- **dictionaries** (Intermediate Python for Data Science, Module Two)\n",
    "- **handling dates and times** (Data Types for Data Science, Module Four)\n",
    "- **function definition** (Python Data Science Toolbox - Part One, Module One)\n",
    "- **default arguments, variable length, and scope** (Python Data Science Toolbox - Part One, Module Two) \n",
    "- **lambda functions and error handling** (Python Data Science Toolbox - Part One, Module Four) "
   ]
  },
  {
   "cell_type": "markdown",
   "metadata": {
    "colab_type": "text",
    "id": "Ipgd2nV8Jpgl"
   },
   "source": [
    "## The Data Science Pipeline\n",
    "\n",
    "This is Tier Three, so we'll get you started. But after that, it's all in your hands! When you feel done with your investigations, look back over what you've accomplished, and prepare a quick presentation of your findings for the next mentor meeting. \n",
    "\n",
    "Data Science is magical. In this case study, you'll get to apply some complex machine learning algorithms. But as  [David Spiegelhalter](https://www.youtube.com/watch?v=oUs1uvsz0Ok) reminds us, there is no substitute for simply **taking a really, really good look at the data.** Sometimes, this is all we need to answer our question.\n",
    "\n",
    "Data Science projects generally adhere to the four stages of Data Science Pipeline:\n",
    "1. Sourcing and loading \n",
    "2. Cleaning, transforming, and visualizing \n",
    "3. Modeling \n",
    "4. Evaluating and concluding \n"
   ]
  },
  {
   "cell_type": "markdown",
   "metadata": {
    "colab_type": "text",
    "id": "zswDqbefJpgm"
   },
   "source": [
    "### 1. Sourcing and Loading \n",
    "\n",
    "Any Data Science project kicks off by importing  ***pandas***. The documentation of this wonderful library can be found [here](https://pandas.pydata.org/). As you've seen, pandas is conveniently connected to the [Numpy](http://www.numpy.org/) and [Matplotlib](https://matplotlib.org/) libraries. \n",
    "\n",
    "***Hint:*** This part of the data science pipeline will test those skills you acquired in the pandas Foundations course, Module One. "
   ]
  },
  {
   "cell_type": "markdown",
   "metadata": {
    "colab_type": "text",
    "id": "aEau5nEvJpgm"
   },
   "source": [
    "#### 1.1. Importing Libraries"
   ]
  },
  {
   "cell_type": "code",
   "execution_count": 6,
   "metadata": {
    "colab": {},
    "colab_type": "code",
    "id": "7Bt_Q_oPJpgn"
   },
   "outputs": [],
   "source": [
    "# Let's import the pandas, numpy libraries as pd, and np respectively. \n",
    "import pandas as pd\n",
    "import numpy as np\n",
    "\n",
    "# Load the pyplot collection of functions from matplotlib, as plt \n",
    "from matplotlib import pyplot as plt\n",
    "\n",
    "# for http error\n",
    "import requests\n",
    "from io import BytesIO\n"
   ]
  },
  {
   "cell_type": "markdown",
   "metadata": {
    "colab_type": "text",
    "id": "koUrawxsJpgq"
   },
   "source": [
    "#### 1.2.  Loading the data\n",
    "Your data comes from the [London Datastore](https://data.london.gov.uk/): a free, open-source data-sharing portal for London-oriented datasets. "
   ]
  },
  {
   "cell_type": "code",
   "execution_count": 12,
   "metadata": {
    "colab": {},
    "colab_type": "code",
    "id": "AiLiD4v3Jpgr"
   },
   "outputs": [
    {
     "name": "stdout",
     "output_type": "stream",
     "text": [
      "  Unnamed: 0 City of London Barking & Dagenham     Barnet     Bexley  \\\n",
      "0        NaT      E09000001          E09000002  E09000003  E09000004   \n",
      "1 1995-01-01          90347              51870      98948      64956   \n",
      "2 1995-02-01          81213              52513      98848      64786   \n",
      "3 1995-03-01          78168              52701      97848      64366   \n",
      "4 1995-04-01          76172              54618      96273      64276   \n",
      "\n",
      "       Brent    Bromley     Camden    Croydon     Ealing  ... NORTH WEST  \\\n",
      "0  E09000005  E09000006  E09000007  E09000008  E09000009  ...  E12000002   \n",
      "1      76880      83082     119775      70118      85469  ...      40907   \n",
      "2      77651      83068     118365      69908      86551  ...      40877   \n",
      "3      77644      82856     119131      69666      87067  ...      41351   \n",
      "4      78668      82525     118948      69562      87933  ...      41195   \n",
      "\n",
      "  YORKS & THE HUMBER EAST MIDLANDS WEST MIDLANDS EAST OF ENGLAND     LONDON  \\\n",
      "0          E12000003     E12000004     E12000005       E12000006  E12000007   \n",
      "1              42171         43856         46470           56098      79687   \n",
      "2              41912         44344         47249           55991      77913   \n",
      "3              42544         43701         47345           55574      79110   \n",
      "4              42934         44414         47359           55966      79708   \n",
      "\n",
      "  SOUTH EAST SOUTH WEST Unnamed: 47    England  \n",
      "0  E12000008  E12000009         NaN  E92000001  \n",
      "1      64502      52799         NaN      50231  \n",
      "2      64196      52462         NaN      50130  \n",
      "3      64597      51716         NaN      50229  \n",
      "4      65111      52877         NaN      50597  \n",
      "\n",
      "[5 rows x 49 columns]\n"
     ]
    }
   ],
   "source": [
    "# First, make a variable called url_LondonHousePrices, and assign it the following link, enclosed in quotation-marks as a string:\n",
    "# https://data.london.gov.uk/download/uk-house-price-index/70ac0766-8902-4eb5-aab5-01951aaed773/UK%20House%20price%20index.xls\n",
    "\n",
    "url_LondonHousePrices= \"https://data.london.gov.uk/download/uk-house-price-index/70ac0766-8902-4eb5-aab5-01951aaed773/UK%20House%20price%20index.xls\"\n",
    "\n",
    "# for request issue\n",
    "# Set headers to mimic a browser\n",
    "headers = {\n",
    "    \"User-Agent\": \"Mozilla/5.0\"\n",
    "}\n",
    "\n",
    "# Make the request\n",
    "response = requests.get(url_LondonHousePrices, headers=headers)\n",
    "\n",
    "# Raise error if failed\n",
    "response.raise_for_status()\n",
    "\n",
    "# Load Excel data from memory buffer\n",
    "excel_data = BytesIO(response.content)\n",
    "\n",
    "# The dataset we're interested in contains the Average prices of the houses, and is actually on a particular sheet of the Excel file. \n",
    "# As a result, we need to specify the sheet name in the read_excel() method.\n",
    "# Put this data into a variable called properties.  \n",
    "properties = pd.read_excel(excel_data, sheet_name='Average price', index_col= None)\n",
    "print(properties.head())"
   ]
  },
  {
   "cell_type": "markdown",
   "metadata": {
    "colab_type": "text",
    "id": "POukEJXgJpgu"
   },
   "source": [
    "### 2. Cleaning, transforming, and visualizing\n",
    "This second stage is arguably the most important part of any Data Science project. The first thing to do is take a proper look at the data. Cleaning forms the majority of this stage, and can be done both before or after Transformation.\n",
    "\n",
    "The end goal of data cleaning is to have tidy data. When data is tidy: \n",
    "\n",
    "1. Each variable has a column.\n",
    "2. Each observation forms a row.\n",
    "\n",
    "Keep the end goal in mind as you move through this process, every step will take you closer. \n",
    "\n",
    "\n",
    "\n",
    "***Hint:*** This part of the data science pipeline should test those skills you acquired in: \n",
    "- Intermediate Python for data science, all modules.\n",
    "- pandas Foundations, all modules. \n",
    "- Manipulating DataFrames with pandas, all modules.\n",
    "- Data Types for Data Science, Module Four.\n",
    "- Python Data Science Toolbox - Part One, all modules"
   ]
  },
  {
   "cell_type": "markdown",
   "metadata": {
    "colab_type": "text",
    "id": "Te0Q548tnzZa"
   },
   "source": [
    "**2.1. Exploring your data** \n",
    "\n",
    "Think about your pandas functions for checking out a dataframe. "
   ]
  },
  {
   "cell_type": "markdown",
   "metadata": {
    "colab_type": "text",
    "id": "tE9Sqt9-oAta"
   },
   "source": [
    "**2.2. Cleaning the data**\n",
    "\n",
    "You might find you need to transpose your dataframe, check out what its row indexes are, and reset the index. You  also might find you need to assign the values of the first row to your column headings  . (Hint: recall the .columns feature of DataFrames, as well as the iloc[] method).\n",
    "\n",
    "Don't be afraid to use StackOverflow for help  with this."
   ]
  },
  {
   "cell_type": "code",
   "execution_count": 141,
   "metadata": {
    "colab": {},
    "colab_type": "code",
    "id": "cdAu1A3YoH_r"
   },
   "outputs": [],
   "source": [
    "# step1: transposing dataset\n",
    "properties_T = properties.T \n",
    "# print(properties_T.head())\n",
    "\n",
    "# step2: assign the 1st row as the new column and remove the old 1st row\n",
    "# resolve the warning: FutureWarning: Dtype inference on a pandas object \n",
    "new_columns = properties_T.iloc[0].infer_objects()\n",
    "properties_T.columns = new_columns\n",
    "#print(properties_T.columns)\n",
    "properties_T = properties_T.iloc[1:]\n",
    "# print(properties_T.head())\n",
    "# print(properties_T.index)\n",
    "\n",
    "# step3: reset index\n",
    "properties_T = properties_T.reset_index()\n",
    "# print(properties_T.head())\n",
    "# print(properties_T.index)\n",
    "# print(properties_T.columns)\n",
    "\n",
    "# step4: remove NaT column - Borough code\n",
    "if pd.NaT in properties_T.columns:\n",
    "    properties_T = properties_T.drop(columns=[pd.NaT])\n",
    "# print(properties_T.head())"
   ]
  },
  {
   "cell_type": "markdown",
   "metadata": {
    "colab_type": "text",
    "id": "o1uLbJAsoIjK"
   },
   "source": [
    "**2.3. Cleaning the data (part 2)**\n",
    "\n",
    "You might we have to **rename** a couple columns. How do you do this? The clue's pretty bold..."
   ]
  },
  {
   "cell_type": "code",
   "execution_count": 143,
   "metadata": {
    "colab": {},
    "colab_type": "code",
    "id": "GKkmn1AnoVZS"
   },
   "outputs": [
    {
     "name": "stdout",
     "output_type": "stream",
     "text": [
      "Unnamed: 0             Borough 1995-01-01 00:00:00 1995-02-01 00:00:00  \\\n",
      "0               City of London               90347               81213   \n",
      "1           Barking & Dagenham               51870               52513   \n",
      "2                       Barnet               98948               98848   \n",
      "3                       Bexley               64956               64786   \n",
      "4                        Brent               76880               77651   \n",
      "\n",
      "Unnamed: 0 1995-03-01 00:00:00 1995-04-01 00:00:00 1995-05-01 00:00:00  \\\n",
      "0                        78168               76172               83392   \n",
      "1                        52701               54618               54524   \n",
      "2                        97848               96273               95737   \n",
      "3                        64366               64276               63995   \n",
      "4                        77644               78668               79464   \n",
      "\n",
      "Unnamed: 0 1995-06-01 00:00:00 1995-07-01 00:00:00 1995-08-01 00:00:00  \\\n",
      "0                        93757              108801              110976   \n",
      "1                        55200               53569               53691   \n",
      "2                        95577               96992               97968   \n",
      "3                        64251               63721               64431   \n",
      "4                        80118               79920               79295   \n",
      "\n",
      "Unnamed: 0 1995-09-01 00:00:00  ... 2024-06-01 00:00:00 2024-07-01 00:00:00  \\\n",
      "0                       103215  ...              836988              778044   \n",
      "1                        52909  ...              335460              333844   \n",
      "2                        98936  ...              619969              623966   \n",
      "3                        64508  ...              400200              398779   \n",
      "4                        79557  ...              563027              565386   \n",
      "\n",
      "Unnamed: 0 2024-08-01 00:00:00 2024-09-01 00:00:00 2024-10-01 00:00:00  \\\n",
      "0                       779211              795056              778662   \n",
      "1                       331966              336744              346844   \n",
      "2                       625759              622994              626200   \n",
      "3                       403632              405404              407520   \n",
      "4                       575833              583797              593512   \n",
      "\n",
      "Unnamed: 0 2024-11-01 00:00:00 2024-12-01 00:00:00 2025-01-01 00:00:00  \\\n",
      "0                       745121              823237              810573   \n",
      "1                       351242              353220              351832   \n",
      "2                       629875              625178              612454   \n",
      "3                       406255              405368              406561   \n",
      "4                       594889              573473              569368   \n",
      "\n",
      "Unnamed: 0 2025-02-01 00:00:00 2025-03-01 00:00:00  \n",
      "0                       798307              718463  \n",
      "1                       362556              370501  \n",
      "2                       605640              604875  \n",
      "3                       408568              408318  \n",
      "4                       557533              569764  \n",
      "\n",
      "[5 rows x 364 columns]\n"
     ]
    }
   ],
   "source": [
    "# step5: reset index to \"Borough\"\n",
    "properties_T = properties_T.rename(columns={'index' : 'Borough'})\n",
    "print(properties_T.head())"
   ]
  },
  {
   "cell_type": "markdown",
   "metadata": {
    "colab_type": "text",
    "id": "jy8BzXHmoWEw"
   },
   "source": [
    "**2.4.Transforming the data**\n",
    "\n",
    "Remember what Wes McKinney said about tidy data? \n",
    "\n",
    "You might need to **melt** your DataFrame here. "
   ]
  },
  {
   "cell_type": "code",
   "execution_count": 153,
   "metadata": {
    "colab": {},
    "colab_type": "code",
    "id": "S2wM0qLuo2Zt"
   },
   "outputs": [
    {
     "name": "stdout",
     "output_type": "stream",
     "text": [
      "              Borough                 Date AveragePrice\n",
      "0      City of London  1995-01-01 00:00:00        90347\n",
      "1  Barking & Dagenham  1995-01-01 00:00:00        51870\n",
      "2              Barnet  1995-01-01 00:00:00        98948\n",
      "3              Bexley  1995-01-01 00:00:00        64956\n",
      "4               Brent  1995-01-01 00:00:00        76880\n"
     ]
    }
   ],
   "source": [
    "# step6: reshape data\n",
    "tidy_properties = pd.melt(properties_T, id_vars=['Borough'], var_name='Date', value_name='AveragePrice')\n",
    "print(tidy_properties.head())"
   ]
  },
  {
   "cell_type": "markdown",
   "metadata": {
    "colab_type": "text",
    "id": "7kIsgAo7o3mf"
   },
   "source": [
    "Remember to make sure your column data types are all correct. Average prices, for example, should be floating point numbers... "
   ]
  },
  {
   "cell_type": "code",
   "execution_count": 161,
   "metadata": {
    "colab": {},
    "colab_type": "code",
    "id": "ZcR4IHbcpOaq"
   },
   "outputs": [
    {
     "name": "stdout",
     "output_type": "stream",
     "text": [
      "Borough          object\n",
      "Date             object\n",
      "AveragePrice    float64\n",
      "dtype: object\n",
      "Borough          object\n",
      "Date             object\n",
      "AveragePrice    float64\n",
      "dtype: object\n"
     ]
    }
   ],
   "source": [
    "# step7: check types\n",
    "print(tidy_properties.dtypes)\n",
    "\n",
    "# step8: convert object to float for tidy_properties['AveragePrice']\n",
    "tidy_properties['AveragePrice'] = pd.to_numeric(tidy_properties['AveragePrice'], errors='coerce')\n",
    "print(tidy_properties.dtypes)"
   ]
  },
  {
   "cell_type": "markdown",
   "metadata": {
    "colab_type": "text",
    "id": "knLUXHLypOtw"
   },
   "source": [
    "**2.5. Cleaning the data (part 3)**\n",
    "\n",
    "Do we have an equal number of observations in the ID, Average Price, Month, and London Borough columns? Remember that there are only 32 London Boroughs. How many entries do you have in that column? \n",
    "\n",
    "Check out the contents of the London Borough column, and if you find null values, get rid of them however you see fit. "
   ]
  },
  {
   "cell_type": "code",
   "execution_count": 195,
   "metadata": {
    "colab": {},
    "colab_type": "code",
    "id": "BnvTW5a3p0fC"
   },
   "outputs": [
    {
     "name": "stdout",
     "output_type": "stream",
     "text": [
      "Borough         11616\n",
      "Date            11616\n",
      "AveragePrice    11616\n",
      "dtype: int64\n",
      "['Barking & Dagenham' 'Barnet' 'Bexley' 'Brent' 'Bromley' 'Camden'\n",
      " 'Croydon' 'Ealing' 'Enfield' 'Greenwich' 'Hackney' 'Hammersmith & Fulham'\n",
      " 'Haringey' 'Harrow' 'Havering' 'Hillingdon' 'Hounslow' 'Islington'\n",
      " 'Kensington & Chelsea' 'Kingston upon Thames' 'Lambeth' 'Lewisham'\n",
      " 'Merton' 'Newham' 'Redbridge' 'Richmond upon Thames' 'Southwark' 'Sutton'\n",
      " 'Tower Hamlets' 'Waltham Forest' 'Wandsworth' 'Westminster']\n",
      "0\n",
      "['Barking & Dagenham' 'Barnet' 'Bexley' 'Brent' 'Bromley' 'Camden'\n",
      " 'Croydon' 'Ealing' 'Enfield' 'Greenwich' 'Hackney' 'Hammersmith & Fulham'\n",
      " 'Haringey' 'Harrow' 'Havering' 'Hillingdon' 'Hounslow' 'Islington'\n",
      " 'Kensington & Chelsea' 'Kingston upon Thames' 'Lambeth' 'Lewisham'\n",
      " 'Merton' 'Newham' 'Redbridge' 'Richmond upon Thames' 'Southwark' 'Sutton'\n",
      " 'Tower Hamlets' 'Waltham Forest' 'Wandsworth' 'Westminster']\n",
      "Borough         11616\n",
      "Date            11616\n",
      "AveragePrice    11616\n",
      "dtype: int64\n"
     ]
    }
   ],
   "source": [
    "# print(tidy_properties)\n",
    "# step1: check if row-level consistency\n",
    "print(tidy_properties.count())\n",
    "\n",
    "# step2: check unique Borough\n",
    "print(tidy_properties['Borough'].unique())\n",
    "\n",
    "# step3: find if there is null or NaN in Borough\n",
    "print(tidy_properties['Borough'].isna().sum())\n",
    "\n",
    "# no need to remove null value\n",
    "# step4: drop rows where Borough is null\n",
    "# tidy_properties = tidy_properties[tidy_properties['Borough'].notna()]\n",
    "# print(tidy_properties)\n",
    "\n",
    "# step4: remove non-Borough rows\n",
    "official_boroughs = [\n",
    "    'Barking & Dagenham', 'Barnet', 'Bexley', 'Brent', 'Bromley', 'Camden',\n",
    "    'Croydon', 'Ealing', 'Enfield', 'Greenwich', 'Hackney',\n",
    "    'Hammersmith & Fulham', 'Haringey', 'Harrow', 'Havering', 'Hillingdon',\n",
    "    'Hounslow', 'Islington', 'Kensington & Chelsea', 'Kingston upon Thames',\n",
    "    'Lambeth', 'Lewisham', 'Merton', 'Newham', 'Redbridge',\n",
    "    'Richmond upon Thames', 'Southwark', 'Sutton', 'Tower Hamlets',\n",
    "    'Waltham Forest', 'Wandsworth', 'Westminster'\n",
    "]\n",
    "tidy_properties = tidy_properties[tidy_properties['Borough'].isin(official_boroughs)]\n",
    "# print(len(tidy_properties['Borough'].unique()))\n",
    "\n",
    "# step5: drop rows with missing AveragePrice\n",
    "tidy_properties = tidy_properties[tidy_properties['AveragePrice'].notna()]\n",
    "\n",
    "# step6: confirm the data is clean\n",
    "print(tidy_properties['Borough'].unique())\n",
    "print(tidy_properties.count())"
   ]
  },
  {
   "cell_type": "markdown",
   "metadata": {
    "colab_type": "text",
    "id": "PGEx6mJsp6dG"
   },
   "source": [
    "**2.6. Visualizing the data**\n",
    "\n",
    "To visualize the data, why not subset on a particular London Borough? Maybe do a line plot of Month against Average Price?"
   ]
  },
  {
   "cell_type": "code",
   "execution_count": 215,
   "metadata": {
    "colab": {},
    "colab_type": "code",
    "id": "nAg5pT9cqHAR"
   },
   "outputs": [
    {
     "data": {
      "image/png": "[encoded data removed]",
      "text/plain": [
       "<Figure size 1200x600 with 1 Axes>"
      ]
     },
     "metadata": {},
     "output_type": "display_data"
    }
   ],
   "source": [
    "# step1: subset data - filter for Greenwich\n",
    "greenwich_data = tidy_properties[tidy_properties['Borough'] == 'Greenwich']\n",
    "#print(greenwich_data)\n",
    "\n",
    "plt.figure(figsize=(12, 6))\n",
    "plt.plot(greenwich_data['Date'], greenwich_data['AveragePrice'])\n",
    "plt.title('Average House Prices in Greenwich Over Time')\n",
    "plt.xlabel('Date')\n",
    "plt.ylabel('Average Price')\n",
    "plt.xticks(rotation=45)\n",
    "# plt.tight_layout()\n",
    "plt.show()"
   ]
  },
  {
   "cell_type": "markdown",
   "metadata": {
    "colab_type": "text",
    "id": "aWTPqSJeqHnC"
   },
   "source": [
    "To limit the number of data points you have, you might want to extract the year from every month value your *Month* column. \n",
    "\n",
    "To this end, you *could* apply a ***lambda function***. Your logic could work as follows:\n",
    "1. look through the `Month` column\n",
    "2. extract the year from each individual value in that column \n",
    "3. store that corresponding year as separate column. \n",
    "\n",
    "Whether you go ahead with this is up to you. Just so long as you answer our initial brief: which boroughs of London have seen the greatest house price increase, on average, over the past two decades? "
   ]
  },
  {
   "cell_type": "code",
   "execution_count": 424,
   "metadata": {
    "colab": {},
    "colab_type": "code",
    "id": "e0DF92cyqnu8"
   },
   "outputs": [
    {
     "name": "stdout",
     "output_type": "stream",
     "text": [
      "Year                        1995          1996           1997           1998  \\\n",
      "Borough                                                                        \n",
      "Barking & Dagenham  53265.416667  53162.666667   57537.583333   61969.666667   \n",
      "Barnet              97365.083333  99707.000000  113371.833333  129787.750000   \n",
      "Bexley              64289.750000  65488.666667   70787.583333   80629.833333   \n",
      "Brent               78737.416667  81116.083333   93529.000000  108562.333333   \n",
      "Bromley             83382.916667  84990.333333   95852.000000  110156.583333   \n",
      "\n",
      "Year                         1999           2000           2001  \\\n",
      "Borough                                                           \n",
      "Barking & Dagenham   67145.333333   79715.500000   91140.250000   \n",
      "Barnet              144261.083333  178148.750000  196828.500000   \n",
      "Bexley               86775.333333  103183.666667  116523.916667   \n",
      "Brent               120923.166667  151979.500000  169580.250000   \n",
      "Bromley             122961.666667  150379.583333  164931.833333   \n",
      "\n",
      "Year                         2002           2003           2004  ...  \\\n",
      "Borough                                                          ...   \n",
      "Barking & Dagenham  115356.250000  146478.750000  162593.666667  ...   \n",
      "Barnet              234147.083333  266463.583333  288357.916667  ...   \n",
      "Bexley              136794.083333  164477.500000  179136.333333  ...   \n",
      "Brent               200426.916667  233422.416667  254469.833333  ...   \n",
      "Bromley             189869.333333  219723.000000  238511.750000  ...   \n",
      "\n",
      "Year                         2016           2017           2018  \\\n",
      "Borough                                                           \n",
      "Barking & Dagenham  281570.166667  295771.000000  303429.500000   \n",
      "Barnet              557868.333333  570959.000000  565586.666667   \n",
      "Bexley              321554.833333  335685.083333  342663.166667   \n",
      "Brent               527723.833333  525820.166667  531462.416667   \n",
      "Bromley             435399.583333  448838.166667  451074.083333   \n",
      "\n",
      "Year                         2019           2020           2021  \\\n",
      "Borough                                                           \n",
      "Barking & Dagenham  306536.000000  309238.416667  317677.583333   \n",
      "Barnet              552940.083333  557674.916667  589478.166667   \n",
      "Bexley              336863.083333  343316.916667  369462.000000   \n",
      "Brent               511690.000000  525795.916667  528774.833333   \n",
      "Bromley             443762.166667  442561.000000  474885.833333   \n",
      "\n",
      "Year                         2022           2023           2024           2025  \n",
      "Borough                                                                         \n",
      "Barking & Dagenham  342717.000000  346955.333333  340943.083333  361629.666667  \n",
      "Barnet              631641.250000  623843.166667  617720.333333  607656.333333  \n",
      "Bexley              400681.166667  399864.750000  400811.750000  407815.666667  \n",
      "Brent               562752.416667  559168.750000  566599.416667  565555.000000  \n",
      "Bromley             511376.333333  507577.833333  498321.083333  516477.666667  \n",
      "\n",
      "[5 rows x 31 columns]\n",
      "                Borough  Year  AveragePrice\n",
      "1    Barking & Dagenham  1996  53162.666667\n",
      "0    Barking & Dagenham  1995  53265.416667\n",
      "713              Newham  1995  57020.333333\n",
      "2    Barking & Dagenham  1997  57537.583333\n",
      "714              Newham  1996  58245.750000\n",
      "3    Barking & Dagenham  1998  61969.666667\n",
      "651            Lewisham  1995  62483.750000\n",
      "899      Waltham Forest  1995  63274.416667\n",
      "652            Lewisham  1996  63550.083333\n",
      "715              Newham  1997  63704.500000\n"
     ]
    }
   ],
   "source": [
    "# sort values by Borough and the date\n",
    "# print(tidy_properties.sort_values(by=['Borough', 'Date']))\n",
    "\n",
    "# step1: extract year\n",
    "tidy_properties['Year'] = tidy_properties['Date'].apply(lambda x: x.year )\n",
    "# print(tidy_properties.head())\n",
    "\n",
    "# step2: group by Borough and year\n",
    "borough_yearly = tidy_properties.groupby(['Borough', 'Year'])['AveragePrice'].agg(func=['mean']).reset_index()\n",
    "#print(borough_yearly)\n",
    "\n",
    "# step3: rename mean back to AveragePrice\n",
    "borough_yearly = borough_yearly.rename(columns={'mean' : 'AveragePrice'})\n",
    "#print(borough_yearly)\n",
    "\n",
    "# step3: pivot dataframe\n",
    "price_pivot = borough_yearly.pivot(index='Borough', columns='Year', values='AveragePrice')\n",
    "#print(price_pivot.head())\n",
    "\n",
    "# step4: check if there is null value\n",
    "# print(price_pivot.isna().sum())\n",
    "\n",
    "# step5: find the highest price and lowest price\n",
    "price_pivot['MaxPrice'] = price_pivot.max(axis=1)\n",
    "price_pivot['MinPrice'] = price_pivot.min(axis=1)\n",
    "#print(price_pivot.head())\n",
    "\n",
    "# step6: calculate the increse and percentage\n",
    "price_pivot['Increase'] = price_pivot['MaxPrice'] - price_pivot['MinPrice']\n",
    "price_pivot['PercentIncreased'] = price_pivot['Increase'] / price_pivot['MinPrice'] * 100\n",
    "#print(price_pivot.head())\n",
    "\n",
    "# step7: sort by PercentIncreased to find which borough has greatest house price increase\n",
    "price_sorted = price_pivot.sort_values(by='PercentIncreased', ascending=False)\n",
    "\n",
    "# step8: visulization - top 10 average price increased\n",
    "top_10 = price_sorted.head(10);\n",
    "plt.figure(figsize=(15,5))\n",
    "plt.bar(top_10.index, top_10['PercentIncreased'])\n",
    "plt.xlabel('Borough')\n",
    "plt.xticks(rotation=45)\n",
    "plt.ylabel('Price increased %')\n",
    "plt.title('Top 10 London Boroughs by Percent House Price Increase')\n",
    "plt.tight_layout()\n",
    "\n"
   ]
  },
  {
   "cell_type": "markdown",
   "metadata": {
    "colab_type": "text",
    "id": "2knuTxAEqoJ4"
   },
   "source": [
    "**3. Modeling**\n",
    "\n",
    "Consider creating a function that will calculate a ratio of house prices, comparing the price of a house in 2018 to the price in 1998.\n",
    "\n",
    "Consider calling this function create_price_ratio.\n",
    "\n",
    "You'd want this function to:\n",
    "1. Take a filter of dfg, specifically where this filter constrains the London_Borough, as an argument. For example, one admissible argument should be: dfg[dfg['London_Borough']=='Camden'].\n",
    "2. Get the Average Price for that Borough, for the years 1998 and 2018.\n",
    "4. Calculate the ratio of the Average Price for 1998 divided by the Average Price for 2018.\n",
    "5. Return that ratio.\n",
    "\n",
    "Once you've written this function, you ultimately want to use it to iterate through all the unique London_Boroughs and work out the ratio capturing the difference of house prices between 1998 and 2018.\n",
    "\n",
    "Bear in mind: you don't have to write a function like this if you don't want to. If you can solve the brief otherwise, then great! \n",
    "\n",
    "***Hint***: This section should test the skills you acquired in:\n",
    "- Python Data Science Toolbox - Part One, all modules"
   ]
  },
  {
   "cell_type": "code",
   "execution_count": 410,
   "metadata": {
    "colab": {},
    "colab_type": "code",
    "id": "cKTyr437UgDa"
   },
   "outputs": [
    {
     "data": {
      "text/plain": [
       "<Figure size 1000x1200 with 0 Axes>"
      ]
     },
     "metadata": {},
     "output_type": "display_data"
    },
    {
     "data": {
      "image/png": "[encoded data removed]",
      "text/plain": [
       "<Figure size 640x480 with 1 Axes>"
      ]
     },
     "metadata": {},
     "output_type": "display_data"
    }
   ],
   "source": [
    "# step1: create create_price_ratio function\n",
    "def create_price_ratio(borough):\n",
    "    price_1998 = price_pivot.loc[borough, 1998]\n",
    "    price_2018 = price_pivot.loc[borough, 2018]\n",
    "\n",
    "    if price_1998 != 0:\n",
    "        return price_1998 / price_2018\n",
    "    else:\n",
    "        return None\n",
    "\n",
    "# step2: get price ratio for each Borough\n",
    "ratio = {}\n",
    "for borough in price_pivot.index:\n",
    "    price_ratio = create_price_ratio(borough)\n",
    "    ratio[borough] = price_ratio\n",
    "\n",
    "# step3: convert ratio to data frame\n",
    "ratio_df = pd.DataFrame.from_dict(ratio, orient='index', columns=['PriceRatio'])\n",
    "ratios_df_sorted = ratio_df.sort_values(by='PriceRatio', ascending=True)\n",
    "#print(ratios_df_sorted)\n",
    "\n",
    "# step4: visulization\n",
    "ratio_10 = ratios_df_sorted.head(10)\n",
    "plt.figure(figsize=(10, 12))\n",
    "ratio_10.plot(kind='barh', color='skyblue')\n",
    "plt.title(\"London Borough: House Price Ratio (1998 - 2018)\")\n",
    "plt.xlabel(\"Price Ratio\")\n",
    "plt.gca().invert_yaxis()\n",
    "plt.tight_layout()"
   ]
  },
  {
   "cell_type": "markdown",
   "metadata": {
    "colab_type": "text",
    "id": "NzYUI7FxJpgv"
   },
   "source": [
    "### 4. Conclusion\n",
    "What can you conclude? Type out your conclusion below. \n",
    "\n",
    "Look back at your notebook. Think about how you might summarize what you have done, and prepare a quick presentation on it to your mentor at your next meeting. \n",
    "\n",
    "We hope you enjoyed this practical project. It should have consolidated your data hygiene and pandas skills by looking at a real-world problem involving just the kind of dataset you might encounter as a budding data scientist. Congratulations, and looking forward to seeing you at the next step in the course! "
   ]
  },
  {
   "cell_type": "code",
   "execution_count": null,
   "metadata": {},
   "outputs": [],
   "source": [
    "1. Hackney saw the highest price increased from 1998 to 2018\n",
    "2. Hackney also has the higest price growth which is aroun 8x more than its historical lows from 1995 to 2025 "
   ]
  }
 ],
 "metadata": {
  "colab": {
   "collapsed_sections": [],
   "name": "Springboard Data Science Career Track Unit 4 Challenge - Tier 3 Complete .ipynb",
   "provenance": []
  },
  "kernelspec": {
   "display_name": "Python [conda env:base] *",
   "language": "python",
   "name": "conda-base-py"
  },
  "language_info": {
   "codemirror_mode": {
    "name": "ipython",
    "version": 3
   },
   "file_extension": ".py",
   "mimetype": "text/x-python",
   "name": "python",
   "nbconvert_exporter": "python",
   "pygments_lexer": "ipython3",
   "version": "3.12.7"
  }
 },
 "nbformat": 4,
 "nbformat_minor": 4
}
