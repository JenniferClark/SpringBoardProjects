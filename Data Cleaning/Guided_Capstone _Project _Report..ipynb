{
 "cells": [
  {
   "cell_type": "markdown",
   "id": "33b03e3a",
   "metadata": {},
   "source": [
    "# Guided Capstone Project Report"
   ]
  },
  {
   "cell_type": "markdown",
   "id": "4bd666c3",
   "metadata": {},
   "source": [
    "## Current Market Position\n",
    "Big Mountain Resort currently charges **$74** for an adult weekend ticket. Our analysis, which incorporates both a comparative market view and a machine learning model (Random Forest Regressor), indicates that **this ticket price is significantly below what the market would support** given Big Mountain’s current infrastructure."
   ]
  },
  {
   "cell_type": "markdown",
   "id": "03e524bd",
   "metadata": {},
   "source": [
    "## Modeling Insights and Price Recommendation\n",
    "Our model was trained using a dataset of U.S. ski resorts and accounts for factors such as:\n",
    "- Vertical drop\n",
    "- Number of runs\n",
    "- Lift infrastructure (e.g., total chairs, fast quads, trams)\n",
    "- Skiable terrain\n",
    "- Snowmaking coverage\n",
    "\n",
    "**Predicted Price Range**:  \n",
    "Based on these features, the model predicts a **market-supported price range of $100–$105**, suggesting an **opportunity to raise prices by approximately $25–$30** without pricing out the market."
   ]
  },
  {
   "cell_type": "markdown",
   "id": "6aa34fd7",
   "metadata": {},
   "source": [
    "## Scenario-Based Recommendations\n",
    "Several scenarios were modeled to explore revenue potential under proposed improvements. The most impactful include:\n",
    "\n",
    "- **Scenario 2**: Adding 1 run, 150 ft vertical drop, and 1 chair →  \n",
    "  Predicted ticket price increase: ~$4.3  \n",
    "  \n",
    "  Revenue impact (at 5 tickets/visitor): +$21 per visitor\n",
    "\n",
    "- **Scenario 3**: Scenario 2 + 4 additional acres of snowmaking →  \n",
    "  Additional increase: ~$1.3  \n",
    "  \n",
    "  Combined revenue per visitor: +$27\n",
    "\n",
    "- **Scenario 4**: Add 0.2 miles to the longest run and 4 acres of snowmaking  →\n",
    "  Small incremental impact (+\\\\$1–\\\\$2)"
   ]
  },
  {
   "cell_type": "markdown",
   "id": "be19ef59",
   "metadata": {},
   "source": [
    "### Figure: Comparative Histogram Example\n",
    "```python\n",
    "plt.axvline(x=big_mountain[feat_name].values[0], c='r', ls='--', alpha=0.8, label='Big Mountain')\n",
    "```\n",
    "This figure clearly shows that Big Mountain sits above average in several categories (terrain, lift capacity), yet prices below peers — reinforcing the recommendation to increase prices."
   ]
  },
  {
   "cell_type": "markdown",
   "id": "f5ca1caa",
   "metadata": {},
   "source": [
    "## Cost Considerations\n",
    "The cost of installing and operating an additional chair lift is estimated to be around $2 per ticket  (assuming each visitor purchases 5 day tickets).\n",
    "\n",
    "Since the predicted increase from Scenario 2 is over $4 per ticket, the ROI is favorable and justifies the investment."
   ]
  },
  {
   "cell_type": "markdown",
   "id": "4cbcf8fa",
   "metadata": {},
   "source": [
    "## Strategic Recommendations"
   ]
  },
  {
   "cell_type": "markdown",
   "id": "078ef817",
   "metadata": {},
   "source": [
    "### 1. Raise Ticket Prices Strategically\n",
    "Increase base price from \\\\$74  to a range of  \\\\$100–\\\\$105 to better align with value delivered."
   ]
  },
  {
   "cell_type": "markdown",
   "id": "692d001a",
   "metadata": {},
   "source": [
    "### 2. Pursue High-ROI Infrastructure Investments\n",
    "Scenario 3 shows strong returns; prioritize snowmaking and chair lift expansions before considering longer runs."
   ]
  },
  {
   "cell_type": "markdown",
   "id": "e0524408",
   "metadata": {},
   "source": [
    "### 3. Introduce Tiered Pricing (Twist 4)\n",
    "To avoid alienating budget-conscious guests while unlocking value from premium customers:\n",
    "- Keep **\\\\$74 weekday or early-bird ticket**\n",
    "- Introduce **\\\\$100+ premium tier** including perks like:\n",
    "  - Priority lift access\n",
    "  - Meal/lodge vouchers\n",
    "  - “Bundle & Save” passes (multi-day, gear + lessons)\n",
    "\n",
    "This pricing structure preserves customer loyalty while opening new revenue streams — and serves as a low-risk testbed for a broader pricing strategy."
   ]
  },
  {
   "cell_type": "markdown",
   "id": "08084d94",
   "metadata": {},
   "source": [
    "### 4. Monitor and Optimize\n",
    "Test pricing tiers, track visitor behavior, and run short-term pilots to fine-tune elasticity and maximize both satisfaction and profitability."
   ]
  }
 ],
 "metadata": {
  "kernelspec": {
   "display_name": "Python [conda env:base] *",
   "language": "python",
   "name": "conda-base-py"
  },
  "language_info": {
   "codemirror_mode": {
    "name": "ipython",
    "version": 3
   },
   "file_extension": ".py",
   "mimetype": "text/x-python",
   "name": "python",
   "nbconvert_exporter": "python",
   "pygments_lexer": "ipython3",
   "version": "3.12.7"
  }
 },
 "nbformat": 4,
 "nbformat_minor": 5
}
